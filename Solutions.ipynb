{
 "cells": [
  {
   "cell_type": "markdown",
   "id": "ed09eb79",
   "metadata": {},
   "source": [
    "# Python\n",
    "python is an extremely efficient language where the programs will do more in fewer linws od code than many other languages would require. Python's syntax helps in writing \"clean\" code. It's easy to read, debug and and extend for building applications. Python is used for various purposes like games making, web application building, solvcing business problem, data problems, machine learning, and develop internal other tools. It is also used heavily in scientic fields for acadfemic research and applied work. Pythn also has a wide incredible community. Having a well-connected and supportive community is critical in helping you solve the problems. \n",
    "Python is a great language to learn, so let's get started!"
   ]
  },
  {
   "cell_type": "markdown",
   "id": "ccd8683e",
   "metadata": {},
   "source": [
    "# Chapter 1 (Getting Started)"
   ]
  },
  {
   "cell_type": "code",
   "execution_count": null,
   "id": "9993e607",
   "metadata": {},
   "outputs": [],
   "source": [
    "# Install python \n",
    "# Run command line and type python\n",
    "# Write the codes "
   ]
  },
  {
   "cell_type": "code",
   "execution_count": 4,
   "id": "d3fb6c02",
   "metadata": {},
   "outputs": [
    {
     "name": "stdout",
     "output_type": "stream",
     "text": [
      "Hello Python!\n"
     ]
    }
   ],
   "source": [
    "print(\"Hello Python!\")"
   ]
  },
  {
   "cell_type": "markdown",
   "id": "8e777127",
   "metadata": {},
   "source": [
    "# Chapter 2 (Variables and Simple Data Types)"
   ]
  },
  {
   "cell_type": "markdown",
   "id": "cacff629",
   "metadata": {},
   "source": [
    " **2.1.Simple Message:** Assign a message to a variable, and then print that \n"
   ]
  },
  {
   "cell_type": "code",
   "execution_count": 5,
   "id": "708a035a",
   "metadata": {},
   "outputs": [
    {
     "name": "stdout",
     "output_type": "stream",
     "text": [
      "Hello World\n"
     ]
    }
   ],
   "source": [
    "var = \"Hello World\"\n",
    "print(var)"
   ]
  },
  {
   "cell_type": "markdown",
   "id": "ed502240",
   "metadata": {},
   "source": [
    "**2.2. Simple Messages:** Assign a message to a variable, and print that message. \n",
    "Then change the value of the variable to a new message, and print the new \n",
    "message"
   ]
  },
  {
   "cell_type": "code",
   "execution_count": 7,
   "id": "652af07c",
   "metadata": {},
   "outputs": [
    {
     "name": "stdout",
     "output_type": "stream",
     "text": [
      "Hello World!\n",
      "Hello Python!\n"
     ]
    }
   ],
   "source": [
    "var = \"Hello World!\"\n",
    "print(var)\n",
    "var = \"Hello Python!\"\n",
    "print(var)"
   ]
  },
  {
   "cell_type": "markdown",
   "id": "65295e12",
   "metadata": {},
   "source": [
    "**2-3. Personal Message:** Use a variable to represent a person’s name, and print \n",
    "a message to that person. Your message should be simple, such as, “Hello Eric, \n",
    "would you like to learn some Python today?”"
   ]
  },
  {
   "cell_type": "code",
   "execution_count": 8,
   "id": "60b6fefc",
   "metadata": {},
   "outputs": [
    {
     "name": "stdout",
     "output_type": "stream",
     "text": [
      "Hello Khair, would you like to learn some Python today?\n"
     ]
    }
   ],
   "source": [
    "name = \"Khair\"\n",
    "print(f\"Hello {name}, would you like to learn some Python today?\")"
   ]
  },
  {
   "cell_type": "markdown",
   "id": "29746ca4",
   "metadata": {},
   "source": [
    "**2-4. Name Cases:** Use a variable to represent a person’s name, and then print \n",
    "that person’s name in lowercase, uppercase, and title case."
   ]
  },
  {
   "cell_type": "code",
   "execution_count": 9,
   "id": "fefedd83",
   "metadata": {},
   "outputs": [
    {
     "name": "stdout",
     "output_type": "stream",
     "text": [
      "khair\n",
      "KHAIR\n",
      "Khair\n"
     ]
    }
   ],
   "source": [
    "name = \"Khair\"\n",
    "print(name.lower())\n",
    "print(name.upper())\n",
    "print(name.title())"
   ]
  },
  {
   "cell_type": "markdown",
   "id": "2b0dc61b",
   "metadata": {},
   "source": [
    "**2-5. Famous Quote:** Find a quote from a famous person you admire. Print the \n",
    "quote and the name of its author. Your output should look something like the \n",
    "following, including the quotation marks:\n",
    "Albert Einstein once said, “A person who never made a \n",
    "mistake never tried anything new.”"
   ]
  },
  {
   "cell_type": "code",
   "execution_count": 10,
   "id": "bb8c4d0d",
   "metadata": {},
   "outputs": [
    {
     "name": "stdout",
     "output_type": "stream",
     "text": [
      "Albert Einstein once said, \"A person who never made a mistake\n",
      "never tried anything new.\"\n"
     ]
    }
   ],
   "source": [
    "print('Albert Einstein once said, \"A person who never made a mistake')\n",
    "print('never tried anything new.\"')"
   ]
  },
  {
   "cell_type": "markdown",
   "id": "63e9f032",
   "metadata": {},
   "source": [
    "**2-6. Famous Quote 2:** Repeat Exercise 2-5, but this time, represent the \n",
    "famous person’s name using a variable called famous_person. Then compose \n",
    "your message and represent it with a new variable called message. Print your \n",
    "message."
   ]
  },
  {
   "cell_type": "code",
   "execution_count": 16,
   "id": "d1e9ea21",
   "metadata": {},
   "outputs": [
    {
     "name": "stdout",
     "output_type": "stream",
     "text": [
      "Albert Einstein once said, A person who never made a mistake \n",
      "never tried anything new.\n"
     ]
    }
   ],
   "source": [
    "famous_person = 'Albert Einstein'\n",
    "message = \"A person who never made a mistake \\nnever tried anything new.\"\n",
    "print(f\"{famous_person} once said, {message}\")"
   ]
  },
  {
   "cell_type": "markdown",
   "id": "041e9e9d",
   "metadata": {},
   "source": [
    "**2-7. Stripping Names:** Use a variable to represent a person’s name, and include \n",
    "some whitespace characters at the beginning and end of the name. Make sure \n",
    "you use each character combination, \"\\t\" and \"\\n\", at least once.\n",
    "\n",
    "Print the name once, so the whitespace around the name is displayed. \n",
    "Then print the name using each of the three stripping functions, lstrip(), \n",
    "rstrip(), and strip()."
   ]
  },
  {
   "cell_type": "code",
   "execution_count": 20,
   "id": "f53dad04",
   "metadata": {},
   "outputs": [
    {
     "name": "stdout",
     "output_type": "stream",
     "text": [
      "Unmodified: \tKhair Ahammed\n",
      "\t\n",
      "Using lstrip(): Khair Ahammed\n",
      "\t\n",
      "Using rstrip(): \tKhair Ahammed\n",
      "Using strip(): Khair Ahammed\n"
     ]
    }
   ],
   "source": [
    "name = \"\\tKhair Ahammed\\n\\t\"\n",
    "\n",
    "print(f\"Unmodified: {name}\")\n",
    "\n",
    "print(f\"Using lstrip(): {name.lstrip()}\")\n",
    "\n",
    "\n",
    "print(f\"Using rstrip(): {name.rstrip()}\")\n",
    "\n",
    "\n",
    "print(f\"Using strip(): {name.strip()}\")\n"
   ]
  },
  {
   "cell_type": "markdown",
   "id": "c17efa29",
   "metadata": {},
   "source": [
    "**2-8. Number Eight:** Write addition, subtraction, multiplication, and division \n",
    "operations that each result in the number 8. Be sure to enclose your operations \n",
    "in print() calls to see the results. You should create four lines that look like this:\n",
    "print(5+3)\n",
    "Your output should simply be four lines with the number 8 appearing once \n",
    "on each line."
   ]
  },
  {
   "cell_type": "code",
   "execution_count": 21,
   "id": "09a34721",
   "metadata": {},
   "outputs": [
    {
     "name": "stdout",
     "output_type": "stream",
     "text": [
      "8\n",
      "8\n",
      "8\n",
      "8.0\n"
     ]
    }
   ],
   "source": [
    "print(5+3) # addition\n",
    "print(10-2) # Subtraction\n",
    "print(4*2) # Multiplication\n",
    "print(16/2) # division\n"
   ]
  },
  {
   "cell_type": "markdown",
   "id": "419c5d75",
   "metadata": {},
   "source": [
    "**2-9. Favorite Number:** Use a variable to represent your favorite number. Then, \n",
    "using that variable, create a message that reveals your favorite number. Print \n",
    "that message."
   ]
  },
  {
   "cell_type": "code",
   "execution_count": 22,
   "id": "118cc34e",
   "metadata": {},
   "outputs": [
    {
     "name": "stdout",
     "output_type": "stream",
     "text": [
      "My favourite number is: 3\n"
     ]
    }
   ],
   "source": [
    "favourite_number = 3\n",
    "print(\"My favourite number is: \" +str(favourite_number))"
   ]
  },
  {
   "cell_type": "markdown",
   "id": "187c5e4c",
   "metadata": {},
   "source": [
    "**2-10. Adding Comments:** Choose two of the programs you’ve written, and \n",
    "add at least one comment to each. If you don’t have anything specific to write \n",
    "because your programs are too simple at this point, just add your name and \n",
    "the current date at the top of each program file. Then write one sentence \n",
    "describing what the program does"
   ]
  },
  {
   "cell_type": "code",
   "execution_count": 23,
   "id": "fb2331aa",
   "metadata": {},
   "outputs": [
    {
     "name": "stdout",
     "output_type": "stream",
     "text": [
      "My favourite number is: 3\n"
     ]
    }
   ],
   "source": [
    "favourite_number = 3\n",
    "# Casting int to string to concat with the string\n",
    "print(\"My favourite number is: \" +str(favourite_number))"
   ]
  },
  {
   "cell_type": "markdown",
   "id": "e4f26f86",
   "metadata": {},
   "source": [
    "**2-11. Zen of Python:** Enter import this into a Python terminal session and skim \n",
    "through the additional principles.\n"
   ]
  },
  {
   "cell_type": "code",
   "execution_count": 24,
   "id": "d14037b7",
   "metadata": {},
   "outputs": [
    {
     "name": "stdout",
     "output_type": "stream",
     "text": [
      "The Zen of Python, by Tim Peters\n",
      "\n",
      "Beautiful is better than ugly.\n",
      "Explicit is better than implicit.\n",
      "Simple is better than complex.\n",
      "Complex is better than complicated.\n",
      "Flat is better than nested.\n",
      "Sparse is better than dense.\n",
      "Readability counts.\n",
      "Special cases aren't special enough to break the rules.\n",
      "Although practicality beats purity.\n",
      "Errors should never pass silently.\n",
      "Unless explicitly silenced.\n",
      "In the face of ambiguity, refuse the temptation to guess.\n",
      "There should be one-- and preferably only one --obvious way to do it.\n",
      "Although that way may not be obvious at first unless you're Dutch.\n",
      "Now is better than never.\n",
      "Although never is often better than *right* now.\n",
      "If the implementation is hard to explain, it's a bad idea.\n",
      "If the implementation is easy to explain, it may be a good idea.\n",
      "Namespaces are one honking great idea -- let's do more of those!\n"
     ]
    }
   ],
   "source": [
    "import this"
   ]
  },
  {
   "cell_type": "markdown",
   "id": "11ace9c0",
   "metadata": {},
   "source": [
    "# Chapter 3 (Introducing Lists)\n"
   ]
  },
  {
   "cell_type": "code",
   "execution_count": null,
   "id": "3c0250c3",
   "metadata": {},
   "outputs": [],
   "source": []
  }
 ],
 "metadata": {
  "kernelspec": {
   "display_name": "Python 3 (ipykernel)",
   "language": "python",
   "name": "python3"
  },
  "language_info": {
   "codemirror_mode": {
    "name": "ipython",
    "version": 3
   },
   "file_extension": ".py",
   "mimetype": "text/x-python",
   "name": "python",
   "nbconvert_exporter": "python",
   "pygments_lexer": "ipython3",
   "version": "3.9.7"
  }
 },
 "nbformat": 4,
 "nbformat_minor": 5
}
